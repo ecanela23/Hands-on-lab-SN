{
 "cells": [
  {
   "cell_type": "markdown",
   "id": "9b9d2ae2-e594-4ddb-923f-6aae75ae2fbe",
   "metadata": {},
   "source": [
    "### Arithmetic Expression Examples\n",
    "\n",
    "Below are a few examples of evaluating arithmetic expressions in Python.\n",
    "\n",
    "- Addition: 2 + 3 = 5\n",
    "- Subtraction: 5 - 2 = 3\n",
    "- Multiplication: 4 * 6 = 24\n",
    "- Division: 10 / 2 = 5.0\n",
    "- Exponentiation: 2 ** 3 = 8\n",
    "- Floor Division: 10 // 3 = 3\n",
    "- Modulus: 10 % 3 = 1\n",
    "\n"
   ]
  },
  {
   "cell_type": "code",
   "execution_count": null,
   "id": "10b4e7f8-e9da-42cc-9253-cdfbf6a95e95",
   "metadata": {},
   "outputs": [],
   "source": []
  }
 ],
 "metadata": {
  "kernelspec": {
   "display_name": "Python 3 (ipykernel)",
   "language": "python",
   "name": "python3"
  },
  "language_info": {
   "codemirror_mode": {
    "name": "ipython",
    "version": 3
   },
   "file_extension": ".py",
   "mimetype": "text/x-python",
   "name": "python",
   "nbconvert_exporter": "python",
   "pygments_lexer": "ipython3",
   "version": "3.11.7"
  }
 },
 "nbformat": 4,
 "nbformat_minor": 5
}
