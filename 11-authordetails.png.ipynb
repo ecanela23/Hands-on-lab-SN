{
 "cells": [
  {
   "cell_type": "code",
   "execution_count": 1,
   "id": "6a07f77e-2321-42a9-a581-8597e909e74f",
   "metadata": {},
   "outputs": [
    {
     "ename": "SyntaxError",
     "evalue": "invalid syntax (3695508691.py, line 3)",
     "output_type": "error",
     "traceback": [
      "\u001b[0;36m  Cell \u001b[0;32mIn[1], line 3\u001b[0;36m\u001b[0m\n\u001b[0;31m    Elizabeth A. Canela\u001b[0m\n\u001b[0m              ^\u001b[0m\n\u001b[0;31mSyntaxError\u001b[0m\u001b[0;31m:\u001b[0m invalid syntax\n"
     ]
    }
   ],
   "source": [
    "## Author\n",
    "\n",
    "Elizabeth A. Canela"
   ]
  },
  {
   "cell_type": "markdown",
   "id": "8ae7bae6-6eea-4b45-9e41-c972fe97456c",
   "metadata": {},
   "source": [
    "## Author\n",
    "\n",
    "Elizabeth Canela\n"
   ]
  },
  {
   "cell_type": "markdown",
   "id": "c4ce7029-8e6a-4754-8f45-a98ca2b40bc0",
   "metadata": {},
   "source": []
  }
 ],
 "metadata": {
  "kernelspec": {
   "display_name": "Python 3 (ipykernel)",
   "language": "python",
   "name": "python3"
  },
  "language_info": {
   "codemirror_mode": {
    "name": "ipython",
    "version": 3
   },
   "file_extension": ".py",
   "mimetype": "text/x-python",
   "name": "python",
   "nbconvert_exporter": "python",
   "pygments_lexer": "ipython3",
   "version": "3.11.7"
  }
 },
 "nbformat": 4,
 "nbformat_minor": 5
}
