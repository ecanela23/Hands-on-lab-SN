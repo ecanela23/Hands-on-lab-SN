{
 "cells": [
  {
   "cell_type": "code",
   "execution_count": 2,
   "id": "1d347a4d-ed6c-4531-a3d0-71d9b05f8068",
   "metadata": {},
   "outputs": [
    {
     "ename": "SyntaxError",
     "evalue": "invalid syntax (268088016.py, line 3)",
     "output_type": "error",
     "traceback": [
      "\u001b[0;36m  Cell \u001b[0;32mIn[2], line 3\u001b[0;36m\u001b[0m\n\u001b[0;31m    - List popular languages for Data Science.\u001b[0m\n\u001b[0m           ^\u001b[0m\n\u001b[0;31mSyntaxError\u001b[0m\u001b[0;31m:\u001b[0m invalid syntax\n"
     ]
    }
   ],
   "source": [
    "# *Objectives:\n",
    "\n",
    "- List popular languages for Data Science.\n",
    "- Introduce commonly used libraries in data science.\n",
    "- Present different development environment open source tools used in data science.\n",
    "- Provide examples of evaluating arithmetic expressions in Python.\n",
    "- Demonstrate converting minutes to hours using Python.\n"
   ]
  },
  {
   "cell_type": "code",
   "execution_count": 3,
   "id": "e97e02e0-7e7e-4a86-ab0b-be6b7f3de8ed",
   "metadata": {},
   "outputs": [
    {
     "ename": "SyntaxError",
     "evalue": "invalid syntax (2995116505.py, line 3)",
     "output_type": "error",
     "traceback": [
      "\u001b[0;36m  Cell \u001b[0;32mIn[3], line 3\u001b[0;36m\u001b[0m\n\u001b[0;31m    - List popular languages for Data Science.\u001b[0m\n\u001b[0m           ^\u001b[0m\n\u001b[0;31mSyntaxError\u001b[0m\u001b[0;31m:\u001b[0m invalid syntax\n"
     ]
    }
   ],
   "source": [
    "# Objectives:\n",
    "\n",
    "- List popular languages for Data Science.\n",
    "- Introduce commonly used libraries in data science.\n",
    "- Present different development environment open source tools used in data science.\n",
    "- Provide examples of evaluating arithmetic expressions in Python.\n",
    "- Demonstrate converting minutes to hours using Python.\n"
   ]
  },
  {
   "cell_type": "markdown",
   "id": "64b9451c-2063-48af-a4b2-b049c59aed08",
   "metadata": {},
   "source": [
    "# *Objectives:\n",
    "\n",
    "- List popular languages for Data Science.\n",
    "- Introduce commonly used libraries in data science.\n",
    "- Present different development environment open source tools used in data science.\n",
    "- Provide examples of evaluating arithmetic expressions in Python.\n",
    "- Demonstrate converting minutes to hours using Python.\n"
   ]
  },
  {
   "cell_type": "code",
   "execution_count": 4,
   "id": "21fcf2c0-f5f6-4017-a65c-5a4de0eefbe3",
   "metadata": {},
   "outputs": [
    {
     "ename": "SyntaxError",
     "evalue": "invalid syntax (2995116505.py, line 3)",
     "output_type": "error",
     "traceback": [
      "\u001b[0;36m  Cell \u001b[0;32mIn[4], line 3\u001b[0;36m\u001b[0m\n\u001b[0;31m    - List popular languages for Data Science.\u001b[0m\n\u001b[0m           ^\u001b[0m\n\u001b[0;31mSyntaxError\u001b[0m\u001b[0;31m:\u001b[0m invalid syntax\n"
     ]
    }
   ],
   "source": [
    "# Objectives:\n",
    "\n",
    "- List popular languages for Data Science.\n",
    "- Introduce commonly used libraries in data science.\n",
    "- Present different development environment open source tools used in data science.\n",
    "- Provide examples of evaluating arithmetic expressions in Python.\n",
    "- Demonstrate converting minutes to hours using Python.\n"
   ]
  },
  {
   "cell_type": "markdown",
   "id": "58a7b29f-db56-47af-89e8-b24c2b3f28d3",
   "metadata": {},
   "source": [
    "# Objectives:\n",
    "\n",
    "- List popular languages for Data Science.\n",
    "- Introduce commonly used libraries in data science.\n",
    "- Present different development environment open source tools used in data science.\n",
    "- Provide examples of evaluating arithmetic expressions in Python.\n",
    "- Demonstrate converting minutes to hours using Python.\n"
   ]
  },
  {
   "cell_type": "code",
   "execution_count": null,
   "id": "6a6a2cb7-251c-4502-a1d6-32bed47a08ec",
   "metadata": {},
   "outputs": [],
   "source": []
  }
 ],
 "metadata": {
  "kernelspec": {
   "display_name": "Python 3 (ipykernel)",
   "language": "python",
   "name": "python3"
  },
  "language_info": {
   "codemirror_mode": {
    "name": "ipython",
    "version": 3
   },
   "file_extension": ".py",
   "mimetype": "text/x-python",
   "name": "python",
   "nbconvert_exporter": "python",
   "pygments_lexer": "ipython3",
   "version": "3.11.7"
  }
 },
 "nbformat": 4,
 "nbformat_minor": 5
}
